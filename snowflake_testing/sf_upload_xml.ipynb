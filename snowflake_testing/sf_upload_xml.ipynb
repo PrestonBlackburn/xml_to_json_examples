{
 "cells": [
  {
   "cell_type": "code",
   "execution_count": 1,
   "id": "409cd808-5029-4a7e-b325-6df005a02d27",
   "metadata": {},
   "outputs": [],
   "source": [
    "# only going to upload single files,\n",
    "# since the single large file will be too large\n",
    "# without splitting it up\n",
    "\n",
    "# (using python 3.8 in this notebook instead of 3.10 for snowpark)\n"
   ]
  },
  {
   "cell_type": "code",
   "execution_count": 2,
   "id": "a479bf2b-ff5f-45e5-adec-57a4cdeed2a0",
   "metadata": {},
   "outputs": [],
   "source": [
    "import configparser\n",
    "from snowflake.snowpark import Session"
   ]
  },
  {
   "cell_type": "code",
   "execution_count": 3,
   "id": "43a786c9-1c90-4cc5-9318-67361295ab2f",
   "metadata": {},
   "outputs": [],
   "source": [
    "config = configparser.ConfigParser()\n",
    "config.read('../../snowpark.config')\n",
    "\n",
    "connection_parameters = {\n",
    "    \"account\": config['snowflake']['account'],\n",
    "    \"user\": config['snowflake']['user'],\n",
    "    \"password\": config['snowflake']['password'],\n",
    "    \"role\": config['snowflake']['role'],\n",
    "    \"warehouse\": config['snowflake']['warehouse'],\n",
    "    \"database\": config['snowflake']['database'],\n",
    "    \"schema\": config['snowflake']['schema']\n",
    "}\n",
    "\n",
    "session = Session.builder.configs(connection_parameters).create()"
   ]
  },
  {
   "cell_type": "code",
   "execution_count": 9,
   "id": "d566f376-b8e1-4f3f-832a-d66175726a85",
   "metadata": {},
   "outputs": [],
   "source": [
    "# Create a temp stage.\n",
    "_ = session.sql(\"create or replace stage xml_tests.xml_loading.xml_stage\").collect()"
   ]
  },
  {
   "cell_type": "code",
   "execution_count": 4,
   "id": "f5120c9a-37f3-4dc0-ba3a-4e89e8994a8b",
   "metadata": {},
   "outputs": [
    {
     "data": {
      "text/plain": [
       "'UPLOADED'"
      ]
     },
     "execution_count": 4,
     "metadata": {},
     "output_type": "execute_result"
    }
   ],
   "source": [
    "put_result = session.file.put(\"../xml_datasets/xml_micro/*.xml\", \"@xml_tests.xml_loading.xml_stage/small_xml_files\")\n",
    "put_result[0].status"
   ]
  },
  {
   "cell_type": "code",
   "execution_count": 6,
   "id": "9db083ec-615e-43df-9c5b-70b548f961f3",
   "metadata": {},
   "outputs": [
    {
     "data": {
      "text/plain": [
       "[Row(status='Table XML_LANDING successfully created.')]"
      ]
     },
     "execution_count": 6,
     "metadata": {},
     "output_type": "execute_result"
    }
   ],
   "source": [
    "session.sql(\"\"\"create table xml_tests.xml_loading.xml_landing \n",
    "(xml_src variant);\"\"\").collect()"
   ]
  },
  {
   "cell_type": "code",
   "execution_count": 2,
   "id": "5bf23867-10c7-4fea-93fc-fb8d392ca668",
   "metadata": {
    "collapsed": true,
    "jupyter": {
     "outputs_hidden": true
    },
    "tags": []
   },
   "outputs": [],
   "source": [
    "\n",
    "# copy into from stage\n",
    "# _ = session.sql(\"\"\"\n",
    "# COPY INTO xml_tests.xml_loading.xml_landing\n",
    "#      FROM @xml_tests.xml_loading.xml_stage/small_xml_files\n",
    "#     file_format = (TYPE =  XML  STRIP_OUTER_ELEMENT = TRUE)\n",
    "# \"\"\").collect()"
   ]
  },
  {
   "cell_type": "code",
   "execution_count": null,
   "id": "6511c1dd-0053-42da-bb2e-253e1d781588",
   "metadata": {},
   "outputs": [],
   "source": [
    "#example of query to flatten xml in table:\n",
    "# _ = session.sql(\n",
    "# \"\"\"SELECT \n",
    "# xml_flat.value:\"$\" as element_value\n",
    "# ,xml_flat.value:\"@\" as element_name\n",
    "# ,xml_flat.value:\"@date\" as performance_score_date\n",
    "# FROM xml_landing,\n",
    "# LATERAL FLATTEN( INPUT => xml_src:\"$\" ) xml_flat;\"\"\"\n",
    "# )\n",
    "\n",
    "# timed in snowflake, just to look at execution time\n",
    "# flattening time: 1.9s\n"
   ]
  }
 ],
 "metadata": {
  "kernelspec": {
   "display_name": "Python 3 (ipykernel)",
   "language": "python",
   "name": "python3"
  },
  "language_info": {
   "codemirror_mode": {
    "name": "ipython",
    "version": 3
   },
   "file_extension": ".py",
   "mimetype": "text/x-python",
   "name": "python",
   "nbconvert_exporter": "python",
   "pygments_lexer": "ipython3",
   "version": "3.8.3"
  }
 },
 "nbformat": 4,
 "nbformat_minor": 5
}
