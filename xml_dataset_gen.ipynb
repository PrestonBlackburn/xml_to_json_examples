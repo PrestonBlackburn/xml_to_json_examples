{
 "cells": [
  {
   "cell_type": "code",
   "execution_count": 34,
   "metadata": {
    "tags": []
   },
   "outputs": [],
   "source": [
    "from xml.etree.ElementTree import Element, SubElement, tostring\n",
    "import xml.etree.ElementTree as ET\n",
    "\n",
    "import numpy as np\n",
    "import pandas as pd\n",
    "import random\n",
    "\n",
    "from tqdm import tqdm"
   ]
  },
  {
   "cell_type": "markdown",
   "metadata": {},
   "source": [
    "# Creating XML Datasets\n",
    "\n",
    "### Single record xml example:\n",
    "\n",
    "```\n",
    "<records>\n",
    "   <employee_record>\n",
    "      <id>1</id>\n",
    "      <name>Rick</name>\n",
    "      <salary>623.3</salary>\n",
    "      <state>MA</state>\n",
    "      <position>Production Technician</position>\n",
    "      <performance_score date=2017-01-01>Fully Meets<performance_score>\n",
    "      <performance_score date=2022-05-08>Exceeds<performance_score>\n",
    "   </employee_record>\n",
    "</records>\n",
    "```\n",
    "\n",
    "We want to create two datasets to benchmark:\n",
    "1. A single very large XML file  \n",
    "2. Many small xml files  \n",
    "\n",
    "The goal is to read the xml files, convert to json format, then save the json files\n"
   ]
  },
  {
   "cell_type": "code",
   "execution_count": 3,
   "metadata": {
    "tags": []
   },
   "outputs": [],
   "source": [
    "df = pd.read_csv(\"hr_seed_data.csv\")"
   ]
  },
  {
   "cell_type": "code",
   "execution_count": 4,
   "metadata": {
    "tags": []
   },
   "outputs": [
    {
     "data": {
      "text/html": [
       "<div>\n",
       "<style scoped>\n",
       "    .dataframe tbody tr th:only-of-type {\n",
       "        vertical-align: middle;\n",
       "    }\n",
       "\n",
       "    .dataframe tbody tr th {\n",
       "        vertical-align: top;\n",
       "    }\n",
       "\n",
       "    .dataframe thead th {\n",
       "        text-align: right;\n",
       "    }\n",
       "</style>\n",
       "<table border=\"1\" class=\"dataframe\">\n",
       "  <thead>\n",
       "    <tr style=\"text-align: right;\">\n",
       "      <th></th>\n",
       "      <th>Employee_Name</th>\n",
       "      <th>EmpID</th>\n",
       "      <th>Salary</th>\n",
       "      <th>PositionID</th>\n",
       "      <th>Position</th>\n",
       "      <th>State</th>\n",
       "      <th>DateofHire</th>\n",
       "      <th>PerformanceScore</th>\n",
       "      <th>LastPerformanceReview_Date</th>\n",
       "    </tr>\n",
       "  </thead>\n",
       "  <tbody>\n",
       "    <tr>\n",
       "      <th>0</th>\n",
       "      <td>Adinolfi, Wilson  K</td>\n",
       "      <td>10026</td>\n",
       "      <td>62506</td>\n",
       "      <td>19</td>\n",
       "      <td>Production Technician I</td>\n",
       "      <td>MA</td>\n",
       "      <td>7/5/2011</td>\n",
       "      <td>Exceeds</td>\n",
       "      <td>1/17/2019</td>\n",
       "    </tr>\n",
       "    <tr>\n",
       "      <th>1</th>\n",
       "      <td>Ait Sidi, Karthikeyan</td>\n",
       "      <td>10084</td>\n",
       "      <td>104437</td>\n",
       "      <td>27</td>\n",
       "      <td>Sr. DBA</td>\n",
       "      <td>MA</td>\n",
       "      <td>3/30/2015</td>\n",
       "      <td>Fully Meets</td>\n",
       "      <td>2/24/2016</td>\n",
       "    </tr>\n",
       "    <tr>\n",
       "      <th>2</th>\n",
       "      <td>Akinkuolie, Sarah</td>\n",
       "      <td>10196</td>\n",
       "      <td>64955</td>\n",
       "      <td>20</td>\n",
       "      <td>Production Technician II</td>\n",
       "      <td>MA</td>\n",
       "      <td>7/5/2011</td>\n",
       "      <td>Fully Meets</td>\n",
       "      <td>5/15/2012</td>\n",
       "    </tr>\n",
       "    <tr>\n",
       "      <th>3</th>\n",
       "      <td>Alagbe,Trina</td>\n",
       "      <td>10088</td>\n",
       "      <td>64991</td>\n",
       "      <td>19</td>\n",
       "      <td>Production Technician I</td>\n",
       "      <td>MA</td>\n",
       "      <td>1/7/2008</td>\n",
       "      <td>Fully Meets</td>\n",
       "      <td>1/3/2019</td>\n",
       "    </tr>\n",
       "    <tr>\n",
       "      <th>4</th>\n",
       "      <td>Anderson, Carol</td>\n",
       "      <td>10069</td>\n",
       "      <td>50825</td>\n",
       "      <td>19</td>\n",
       "      <td>Production Technician I</td>\n",
       "      <td>MA</td>\n",
       "      <td>7/11/2011</td>\n",
       "      <td>Fully Meets</td>\n",
       "      <td>2/1/2016</td>\n",
       "    </tr>\n",
       "  </tbody>\n",
       "</table>\n",
       "</div>"
      ],
      "text/plain": [
       "              Employee_Name  EmpID  Salary  PositionID   \n",
       "0       Adinolfi, Wilson  K  10026   62506          19  \\\n",
       "1  Ait Sidi, Karthikeyan     10084  104437          27   \n",
       "2         Akinkuolie, Sarah  10196   64955          20   \n",
       "3              Alagbe,Trina  10088   64991          19   \n",
       "4          Anderson, Carol   10069   50825          19   \n",
       "\n",
       "                   Position State DateofHire PerformanceScore   \n",
       "0   Production Technician I    MA   7/5/2011          Exceeds  \\\n",
       "1                   Sr. DBA    MA  3/30/2015      Fully Meets   \n",
       "2  Production Technician II    MA   7/5/2011      Fully Meets   \n",
       "3   Production Technician I    MA   1/7/2008      Fully Meets   \n",
       "4   Production Technician I    MA  7/11/2011      Fully Meets   \n",
       "\n",
       "  LastPerformanceReview_Date  \n",
       "0                  1/17/2019  \n",
       "1                  2/24/2016  \n",
       "2                  5/15/2012  \n",
       "3                   1/3/2019  \n",
       "4                   2/1/2016  "
      ]
     },
     "execution_count": 4,
     "metadata": {},
     "output_type": "execute_result"
    }
   ],
   "source": [
    "df.head()"
   ]
  },
  {
   "cell_type": "code",
   "execution_count": 29,
   "metadata": {
    "tags": []
   },
   "outputs": [],
   "source": [
    "#using the dataset to get text data\n",
    "employee_names = df['Employee_Name'].unique()\n",
    "positions = df['Position'].unique()\n",
    "states = df['State'].unique()\n",
    "performance_scores = df['PerformanceScore'].unique()\n",
    "\n",
    "\n",
    "num_xml_records = 1_000_000\n",
    "\n",
    "xml_names = np.random.choice(employee_names, num_xml_records)\n",
    "xml_positions = np.random.choice(positions, num_xml_records)\n",
    "xml_states = np.random.choice(states, num_xml_records)\n",
    "xml_salary = np.random.rand(num_xml_records)* 100_000\n",
    "xml_performance_scores = np.random.choice(performance_scores, num_xml_records)\n",
    "\n",
    "\n"
   ]
  },
  {
   "cell_type": "code",
   "execution_count": 35,
   "metadata": {
    "tags": []
   },
   "outputs": [
    {
     "name": "stderr",
     "output_type": "stream",
     "text": [
      "100%|██████████████████████████████████████████████████████████████████████| 1000000/1000000 [01:52<00:00, 8920.29it/s]\n"
     ]
    }
   ],
   "source": [
    "# --- write one big file ---\n",
    "\n",
    "root = Element('records')\n",
    "\n",
    "base_date = np.datetime64('2019-01-01')\n",
    "ext_days = np.arange(0, 1000)\n",
    "\n",
    "\n",
    "\n",
    "for i in tqdm(range(0, num_xml_records)):\n",
    "    \n",
    "    empl_record = SubElement(root,\"employee_record\")\n",
    "    ids = SubElement(empl_record, \"id\")\n",
    "    name = SubElement(empl_record, \"name\")\n",
    "    state = SubElement(empl_record, \"state\")\n",
    "    salary = SubElement(empl_record, \"salary\")\n",
    "    \n",
    "    ids.text = np.random.choice(xml_names)\n",
    "    name.text = np.random.choice(xml_positions)\n",
    "    state.text = np.random.choice(xml_states)\n",
    "    salary.text = str(int(np.random.choice(xml_salary)))\n",
    "    \n",
    "    \n",
    "    # up to 5 historical performance scores\n",
    "    for i in range(0, random.randrange(5)):\n",
    "        performance_score = SubElement(empl_record, \"performance_score\")\n",
    "        \n",
    "        random_date = base_date + np.random.choice(ext_days)\n",
    "        performance_score.set(\"date\", str(random_date))\n",
    "        performance_score.text = np.random.choice(xml_performance_scores)\n",
    "        \n",
    "    \n",
    "tree = ET.ElementTree(root)\n",
    "ET.indent(tree, '  ')\n",
    "tree.write(\"large_dataset.xml\", encoding=\"utf-8\", xml_declaration=True)"
   ]
  },
  {
   "cell_type": "code",
   "execution_count": 38,
   "metadata": {
    "tags": []
   },
   "outputs": [
    {
     "name": "stderr",
     "output_type": "stream",
     "text": [
      "100%|██████████████████████████████████████████████████████████████████████████████| 1000/1000 [02:31<00:00,  6.59it/s]\n"
     ]
    }
   ],
   "source": [
    "# --- write a lot of little files ---\n",
    "num_records_per_file = 1000\n",
    "total_files = int(num_xml_records / num_records_per_file)\n",
    "\n",
    "base_date = np.datetime64('2019-01-01')\n",
    "ext_days = np.arange(0, 1000)\n",
    "\n",
    "\n",
    "for file in tqdm(range(0, total_files)):\n",
    "    root = Element('records')\n",
    "    \n",
    "    for i in range(0, num_records_per_file):\n",
    "\n",
    "        empl_record = SubElement(root,\"employee_record\")\n",
    "        ids = SubElement(empl_record, \"id\")\n",
    "        name = SubElement(empl_record, \"name\")\n",
    "        state = SubElement(empl_record, \"state\")\n",
    "        salary = SubElement(empl_record, \"salary\")\n",
    "\n",
    "        ids.text = np.random.choice(xml_names)\n",
    "        name.text = np.random.choice(xml_positions)\n",
    "        state.text = np.random.choice(xml_states)\n",
    "        salary.text = str(int(np.random.choice(xml_salary)))\n",
    "\n",
    "\n",
    "        # up to 5 historical performance scores\n",
    "        for i in range(0, random.randrange(5)):\n",
    "            performance_score = SubElement(empl_record, \"performance_score\")\n",
    "\n",
    "            random_date = base_date + np.random.choice(ext_days)\n",
    "            performance_score.set(\"date\", str(random_date))\n",
    "            performance_score.text = np.random.choice(xml_performance_scores)\n",
    "\n",
    "\n",
    "    tree = ET.ElementTree(root)\n",
    "    ET.indent(tree, '  ')\n",
    "    tree.write(f\"xml_micro/small_dataset_{file}.xml\", encoding=\"utf-8\", xml_declaration=True)"
   ]
  },
  {
   "cell_type": "code",
   "execution_count": null,
   "metadata": {},
   "outputs": [],
   "source": []
  }
 ],
 "metadata": {
  "kernelspec": {
   "display_name": "Python 3 (ipykernel)",
   "language": "python",
   "name": "python3"
  },
  "language_info": {
   "codemirror_mode": {
    "name": "ipython",
    "version": 3
   },
   "file_extension": ".py",
   "mimetype": "text/x-python",
   "name": "python",
   "nbconvert_exporter": "python",
   "pygments_lexer": "ipython3",
   "version": "3.10.11"
  }
 },
 "nbformat": 4,
 "nbformat_minor": 4
}
